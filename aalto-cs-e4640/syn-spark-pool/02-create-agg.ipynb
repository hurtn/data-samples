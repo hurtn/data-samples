{
  "cells": [
    {
      "cell_type": "code",
      "source": [
        "df_fact_sale = spark.read.table(\"default.fact_sale_1y_full\") \r\n",
        "df_dimension_date = spark.read.table(\"default.dimension_date\")\r\n",
        "df_dimension_city = spark.read.table(\"default.dimension_city\")"
      ],
      "outputs": [
        {
          "output_type": "display_data",
          "data": {
            "application/vnd.livy.statement-meta+json": {
              "spark_pool": "synspaalto01",
              "session_id": "0",
              "statement_id": 20,
              "state": "finished",
              "livy_statement_state": "available",
              "queued_time": "2023-03-15T22:08:25.9123196Z",
              "session_start_time": "2023-03-15T22:08:25.9761636Z",
              "execution_start_time": "2023-03-15T22:08:26.1611662Z",
              "execution_finish_time": "2023-03-15T22:08:27.2872962Z",
              "spark_jobs": null,
              "parent_msg_id": "23590691-5188-4777-bad7-340597ab781f"
            },
            "text/plain": "StatementMeta(synspaalto01, 0, 20, Finished, Available)"
          },
          "metadata": {}
        }
      ],
      "execution_count": 20,
      "metadata": {}
    },
    {
      "cell_type": "code",
      "source": [
        "sale_by_date_city = df_fact_sale.alias(\"sale\") \\\r\n",
        ".join(df_dimension_date.alias(\"date\"), df_fact_sale.InvoiceDateKey == df_dimension_date.Date, \"inner\") \\\r\n",
        ".join(df_dimension_city.alias(\"city\"), df_fact_sale.CityKey == df_dimension_city.CityKey, \"inner\") \\\r\n",
        ".select(\"date.Date\", \"date.CalendarMonthLabel\", \"date.Day\", \"date.ShortMonth\", \"date.CalendarYear\", \"city.City\", \"city.StateProvince\", \"city.SalesTerritory\", \"sale.TotalExcludingTax\", \"sale.TaxAmount\", \"sale.TotalIncludingTax\", \"sale.Profit\")\\\r\n",
        ".groupBy(\"date.Date\", \"date.CalendarMonthLabel\", \"date.Day\", \"date.ShortMonth\", \"date.CalendarYear\", \"city.City\", \"city.StateProvince\", \"city.SalesTerritory\")\\\r\n",
        ".sum(\"sale.TotalExcludingTax\", \"sale.TaxAmount\", \"sale.TotalIncludingTax\", \"sale.Profit\")\\\r\n",
        ".withColumnRenamed(\"sum(TotalExcludingTax)\", \"SumOfTotalExcludingTax\")\\\r\n",
        ".withColumnRenamed(\"sum(TaxAmount)\", \"SumOfTaxAmount\")\\\r\n",
        ".withColumnRenamed(\"sum(TotalIncludingTax)\", \"SumOfTotalIncludingTax\")\\\r\n",
        ".withColumnRenamed(\"sum(Profit)\", \"SumOfProfit\")\\\r\n",
        ".orderBy(\"date.Date\", \"city.StateProvince\", \"city.City\")\r\n",
        "\r\n",
        "sale_by_date_city.write.mode(\"overwrite\").format(\"delta\").option(\"overwriteSchema\", \"true\").save('abfss://default@staaltolab01.dfs.core.windows.net/aalto/gold/aggregate_sale_by_date_city')"
      ],
      "outputs": [
        {
          "output_type": "display_data",
          "data": {
            "application/vnd.livy.statement-meta+json": {
              "spark_pool": "synspaalto01",
              "session_id": "0",
              "statement_id": 23,
              "state": "finished",
              "livy_statement_state": "available",
              "queued_time": "2023-03-15T22:10:56.0882269Z",
              "session_start_time": null,
              "execution_start_time": "2023-03-15T22:10:56.2500134Z",
              "execution_finish_time": "2023-03-15T22:11:23.6727703Z",
              "spark_jobs": null,
              "parent_msg_id": "07a7696d-6637-472b-9b82-001ad059b1e9"
            },
            "text/plain": "StatementMeta(synspaalto01, 0, 23, Finished, Available)"
          },
          "metadata": {}
        }
      ],
      "execution_count": 23,
      "metadata": {
        "jupyter": {
          "source_hidden": false,
          "outputs_hidden": false
        },
        "nteract": {
          "transient": {
            "deleting": false
          }
        }
      }
    },
    {
      "cell_type": "code",
      "source": [
        "spark.conf.set(\"spark.microsoft.delta.optimizeWrite.enabled\", \"true\")"
      ],
      "outputs": [
        {
          "output_type": "display_data",
          "data": {
            "application/vnd.livy.statement-meta+json": {
              "spark_pool": "synspaalto01",
              "session_id": "0",
              "statement_id": 22,
              "state": "finished",
              "livy_statement_state": "available",
              "queued_time": "2023-03-15T22:10:51.1828838Z",
              "session_start_time": null,
              "execution_start_time": "2023-03-15T22:10:51.3815637Z",
              "execution_finish_time": "2023-03-15T22:10:51.5750268Z",
              "spark_jobs": null,
              "parent_msg_id": "9dcadae0-e4ef-4f98-91b5-9656aaeb4dd5"
            },
            "text/plain": "StatementMeta(synspaalto01, 0, 22, Finished, Available)"
          },
          "metadata": {}
        }
      ],
      "execution_count": 22,
      "metadata": {
        "jupyter": {
          "source_hidden": false,
          "outputs_hidden": false
        },
        "nteract": {
          "transient": {
            "deleting": false
          }
        }
      }
    },
    {
      "cell_type": "code",
      "source": [
        "sale_by_date_city = df_fact_sale.alias(\"sale\") \\\r\n",
        ".join(df_dimension_date.alias(\"date\"), df_fact_sale.InvoiceDateKey == df_dimension_date.Date, \"inner\") \\\r\n",
        ".join(df_dimension_city.alias(\"city\"), df_fact_sale.CityKey == df_dimension_city.CityKey, \"inner\") \\\r\n",
        ".select(\"date.Date\", \"date.CalendarMonthLabel\", \"date.Day\", \"date.ShortMonth\", \"date.CalendarYear\", \"city.City\", \"city.StateProvince\", \"city.SalesTerritory\", \"sale.TotalExcludingTax\", \"sale.TaxAmount\", \"sale.TotalIncludingTax\", \"sale.Profit\")\\\r\n",
        ".groupBy(\"date.Date\", \"date.CalendarMonthLabel\", \"date.Day\", \"date.ShortMonth\", \"date.CalendarYear\", \"city.City\", \"city.StateProvince\", \"city.SalesTerritory\")\\\r\n",
        ".sum(\"sale.TotalExcludingTax\", \"sale.TaxAmount\", \"sale.TotalIncludingTax\", \"sale.Profit\")\\\r\n",
        ".withColumnRenamed(\"sum(TotalExcludingTax)\", \"SumOfTotalExcludingTax\")\\\r\n",
        ".withColumnRenamed(\"sum(TaxAmount)\", \"SumOfTaxAmount\")\\\r\n",
        ".withColumnRenamed(\"sum(TotalIncludingTax)\", \"SumOfTotalIncludingTax\")\\\r\n",
        ".withColumnRenamed(\"sum(Profit)\", \"SumOfProfit\")\\\r\n",
        ".orderBy(\"date.Date\", \"city.StateProvince\", \"city.City\")\r\n",
        "\r\n",
        "sale_by_date_city.write.mode(\"overwrite\").format(\"delta\").option(\"overwriteSchema\", \"true\").save('abfss://default@staaltolab01.dfs.core.windows.net/aalto/gold/optimized/aggregate_sale_by_date_city')"
      ],
      "outputs": [
        {
          "output_type": "display_data",
          "data": {
            "application/vnd.livy.statement-meta+json": {
              "spark_pool": "synspaalto01",
              "session_id": "0",
              "statement_id": 24,
              "state": "finished",
              "livy_statement_state": "available",
              "queued_time": "2023-03-15T22:12:00.6051709Z",
              "session_start_time": null,
              "execution_start_time": "2023-03-15T22:12:00.7555451Z",
              "execution_finish_time": "2023-03-15T22:12:28.1145693Z",
              "spark_jobs": null,
              "parent_msg_id": "e7947e8a-817b-4236-9e9d-1ab3fe4186b1"
            },
            "text/plain": "StatementMeta(synspaalto01, 0, 24, Finished, Available)"
          },
          "metadata": {}
        }
      ],
      "execution_count": 24,
      "metadata": {
        "jupyter": {
          "source_hidden": false,
          "outputs_hidden": false
        },
        "nteract": {
          "transient": {
            "deleting": false
          }
        }
      }
    },
    {
      "cell_type": "code",
      "source": [
        "%%sql\r\n",
        "CREATE OR REPLACE TEMPORARY VIEW sale_by_date_employee\r\n",
        "AS\r\n",
        "SELECT\r\n",
        "\tDD.Date, DD.CalendarMonthLabel\r\n",
        "    , DD.Day, DD.ShortMonth Month, CalendarYear Year\r\n",
        "\t,DE.PreferredName, DE.Employee\r\n",
        "\t,SUM(FS.TotalExcludingTax) SumOfTotalExcludingTax\r\n",
        "\t,SUM(FS.TaxAmount) SumOfTaxAmount\r\n",
        "\t,SUM(FS.TotalIncludingTax) SumOfTotalIncludingTax\r\n",
        "\t,SUM(Profit) SumOfProfit \r\n",
        "FROM default.fact_sale_1y_full FS\r\n",
        "INNER JOIN default.dimension_date DD ON FS.InvoiceDateKey = DD.Date\r\n",
        "INNER JOIN default.dimension_Employee DE ON FS.SalespersonKey = DE.EmployeeKey\r\n",
        "GROUP BY DD.Date, DD.CalendarMonthLabel, DD.Day, DD.ShortMonth, DD.CalendarYear, DE.PreferredName, DE.Employee\r\n",
        "ORDER BY DD.Date ASC, DE.PreferredName ASC, DE.Employee ASC"
      ],
      "outputs": [
        {
          "output_type": "display_data",
          "data": {
            "application/vnd.livy.statement-meta+json": {
              "spark_pool": "synspaalto01",
              "session_id": "0",
              "statement_id": 26,
              "state": "finished",
              "livy_statement_state": "available",
              "queued_time": "2023-03-15T22:13:19.9037106Z",
              "session_start_time": null,
              "execution_start_time": "2023-03-15T22:13:20.0889065Z",
              "execution_finish_time": "2023-03-15T22:13:21.1954833Z",
              "spark_jobs": null,
              "parent_msg_id": "e7c4c32f-3277-48f2-990c-001bb965cc66"
            },
            "text/plain": "StatementMeta(synspaalto01, 0, 26, Finished, Available)"
          },
          "metadata": {}
        },
        {
          "output_type": "execute_result",
          "execution_count": 26,
          "data": {
            "application/vnd.synapse.sparksql-result+json": {
              "schema": {
                "type": "struct",
                "fields": []
              },
              "data": []
            },
            "text/plain": "<Spark SQL result set with 0 rows and 0 fields>"
          },
          "metadata": {}
        }
      ],
      "execution_count": 26,
      "metadata": {
        "jupyter": {
          "source_hidden": false,
          "outputs_hidden": false
        },
        "nteract": {
          "transient": {
            "deleting": false
          }
        },
        "microsoft": {
          "language": "sparksql"
        },
        "collapsed": false
      }
    },
    {
      "cell_type": "code",
      "source": [
        "sale_by_date_employee = spark.sql(\"SELECT * FROM sale_by_date_employee\")\r\n",
        "sale_by_date_employee.write.mode(\"overwrite\").format(\"delta\").option(\"overwriteSchema\", \"true\").save('abfss://default@staaltolab01.dfs.core.windows.net/aalto/gold/optimized/aggregate_sale_by_date_employee')"
      ],
      "outputs": [
        {
          "output_type": "display_data",
          "data": {
            "application/vnd.livy.statement-meta+json": {
              "spark_pool": "synspaalto01",
              "session_id": "0",
              "statement_id": 27,
              "state": "finished",
              "livy_statement_state": "available",
              "queued_time": "2023-03-15T22:14:00.5301805Z",
              "session_start_time": null,
              "execution_start_time": "2023-03-15T22:14:00.7052565Z",
              "execution_finish_time": "2023-03-15T22:14:21.8302788Z",
              "spark_jobs": null,
              "parent_msg_id": "29db7e76-4a90-4e8b-8a3d-57329c6860e0"
            },
            "text/plain": "StatementMeta(synspaalto01, 0, 27, Finished, Available)"
          },
          "metadata": {}
        }
      ],
      "execution_count": 27,
      "metadata": {
        "jupyter": {
          "source_hidden": false,
          "outputs_hidden": false
        },
        "nteract": {
          "transient": {
            "deleting": false
          }
        }
      }
    }
  ],
  "metadata": {
    "language_info": {
      "name": "python"
    },
    "kernelspec": {
      "name": "synapse_pyspark",
      "language": "Python",
      "display_name": "Synapse PySpark"
    },
    "kernel_info": {
      "name": "synapse_pyspark"
    },
    "save_output": true,
    "synapse_widget": {
      "version": "0.1",
      "state": {}
    }
  },
  "nbformat": 4,
  "nbformat_minor": 2
}