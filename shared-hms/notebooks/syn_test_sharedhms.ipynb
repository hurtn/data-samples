{
  "cells": [
    {
      "cell_type": "code",
      "source": [
        "%%configure -f\r\n",
        "{\r\n",
        "    \"conf\":{\r\n",
        "        \"spark.sql.hive.metastore.version\":\"3.1\",\r\n",
        "        \"spark.hadoop.hive.synapse.externalmetastore.linkedservice.name\":\"HMS\",\r\n",
        "        \"spark.sql.hive.metastore.jars\":\"/opt/hive-metastore/lib-3.1/*:/usr/hdp/current/hadoop-client/lib/*:/usr/hdp/current/hadoop-client/*\"\r\n",
        "    }\r\n",
        "}"
      ],
      "outputs": [
        {
          "output_type": "display_data",
          "data": {
            "application/vnd.livy.statement-meta+json": {
              "spark_pool": null,
              "session_id": "0",
              "statement_id": -1,
              "state": "finished",
              "livy_statement_state": "available",
              "queued_time": "2023-03-02T22:17:28.7120261Z",
              "session_start_time": "2023-03-02T22:17:28.7805218Z",
              "execution_start_time": "2023-03-02T22:19:51.043564Z",
              "execution_finish_time": "2023-03-02T22:19:51.0438869Z",
              "spark_jobs": null,
              "parent_msg_id": "513bcb28-6f55-4d16-b9ac-1288e8880d8f"
            },
            "text/plain": "StatementMeta(, 0, -1, Finished, Available)"
          },
          "metadata": {}
        }
      ],
      "execution_count": 1,
      "metadata": {}
    },
    {
      "cell_type": "code",
      "source": [
        "spark.version"
      ],
      "outputs": [
        {
          "output_type": "display_data",
          "data": {
            "application/vnd.livy.statement-meta+json": {
              "spark_pool": "syn1pshms03101",
              "session_id": "0",
              "statement_id": 1,
              "state": "finished",
              "livy_statement_state": "available",
              "queued_time": "2023-03-02T22:20:39.9261528Z",
              "session_start_time": null,
              "execution_start_time": "2023-03-02T22:21:02.0603785Z",
              "execution_finish_time": "2023-03-02T22:21:02.252193Z",
              "spark_jobs": null,
              "parent_msg_id": "8ca00366-c28c-44c6-a798-bee4753a1ed6"
            },
            "text/plain": "StatementMeta(syn1pshms03101, 0, 1, Finished, Available)"
          },
          "metadata": {}
        },
        {
          "output_type": "execute_result",
          "execution_count": 5,
          "data": {
            "text/plain": "'3.1.3.5.0-83093024'"
          },
          "metadata": {}
        }
      ],
      "execution_count": 2,
      "metadata": {
        "jupyter": {
          "source_hidden": false,
          "outputs_hidden": false
        },
        "nteract": {
          "transient": {
            "deleting": false
          }
        }
      }
    },
    {
      "cell_type": "code",
      "source": [
        "%%sql\r\n",
        "SHOW DATABASES"
      ],
      "outputs": [
        {
          "output_type": "display_data",
          "data": {
            "application/vnd.livy.statement-meta+json": {
              "spark_pool": "syn1pshms03101",
              "session_id": "0",
              "statement_id": 2,
              "state": "finished",
              "livy_statement_state": "available",
              "queued_time": "2023-03-02T22:21:08.2194909Z",
              "session_start_time": null,
              "execution_start_time": "2023-03-02T22:21:08.3917192Z",
              "execution_finish_time": "2023-03-02T22:21:23.7829209Z",
              "spark_jobs": null,
              "parent_msg_id": "f0976dba-2a47-4bd0-890e-db9453747e2f"
            },
            "text/plain": "StatementMeta(syn1pshms03101, 0, 2, Finished, Available)"
          },
          "metadata": {}
        },
        {
          "output_type": "execute_result",
          "execution_count": 3,
          "data": {
            "application/vnd.synapse.sparksql-result+json": {
              "schema": {
                "type": "struct",
                "fields": [
                  {
                    "name": "namespace",
                    "type": "string",
                    "nullable": false,
                    "metadata": {}
                  }
                ]
              },
              "data": [
                [
                  "default"
                ],
                [
                  "information_schema"
                ],
                [
                  "sys"
                ]
              ]
            },
            "text/plain": "<Spark SQL result set with 3 rows and 1 fields>"
          },
          "metadata": {}
        }
      ],
      "execution_count": 3,
      "metadata": {
        "jupyter": {
          "source_hidden": false,
          "outputs_hidden": false
        },
        "nteract": {
          "transient": {
            "deleting": false
          }
        },
        "microsoft": {
          "language": "sparksql"
        },
        "collapsed": false
      }
    },
    {
      "cell_type": "code",
      "source": [
        "%%sql\r\n",
        "CREATE DATABASE IF NOT EXISTS sharedhmsdb\r\n",
        "COMMENT \"Test database for shared HMS\"\r\n",
        "LOCATION \"abfss://default@stshms03101syn.dfs.core.windows.net/hive/warehouse\";"
      ],
      "outputs": [
        {
          "output_type": "display_data",
          "data": {
            "application/vnd.livy.statement-meta+json": {
              "spark_pool": "syn1pshms03101",
              "session_id": "0",
              "statement_id": 3,
              "state": "finished",
              "livy_statement_state": "available",
              "queued_time": "2023-03-02T22:28:39.5511598Z",
              "session_start_time": null,
              "execution_start_time": "2023-03-02T22:28:39.7337484Z",
              "execution_finish_time": "2023-03-02T22:28:42.6038027Z",
              "spark_jobs": null,
              "parent_msg_id": "26df5ad4-5360-4988-8658-e64ba159550c"
            },
            "text/plain": "StatementMeta(syn1pshms03101, 0, 3, Finished, Available)"
          },
          "metadata": {}
        },
        {
          "output_type": "execute_result",
          "execution_count": 4,
          "data": {
            "application/vnd.synapse.sparksql-result+json": {
              "schema": {
                "type": "struct",
                "fields": []
              },
              "data": []
            },
            "text/plain": "<Spark SQL result set with 0 rows and 0 fields>"
          },
          "metadata": {}
        }
      ],
      "execution_count": 4,
      "metadata": {
        "jupyter": {
          "source_hidden": false,
          "outputs_hidden": false
        },
        "nteract": {
          "transient": {
            "deleting": false
          }
        },
        "microsoft": {
          "language": "sparksql"
        },
        "collapsed": false
      }
    },
    {
      "cell_type": "code",
      "source": [
        "spark.read.format(\"csv\")\\\r\n",
        ".load(\"abfss://default@stshms03101syn.dfs.core.windows.net/HdiSamples/HdiSamples/SensorSampleData/building/*csv\")\\\r\n",
        ".write.format(\"delta\")\\\r\n",
        ".mode(\"overwrite\")\\\r\n",
        ".saveAsTable(\"sharedhmsdb.building_summary\")"
      ],
      "outputs": [
        {
          "output_type": "display_data",
          "data": {
            "application/vnd.livy.statement-meta+json": {
              "spark_pool": "syn1pshms03101",
              "session_id": "0",
              "statement_id": 4,
              "state": "finished",
              "livy_statement_state": "available",
              "queued_time": "2023-03-02T22:29:55.6214268Z",
              "session_start_time": null,
              "execution_start_time": "2023-03-02T22:29:55.8191149Z",
              "execution_finish_time": "2023-03-02T22:30:45.9678423Z",
              "spark_jobs": null,
              "parent_msg_id": "26e1ae3e-dd50-4956-a57c-0a8bd5123091"
            },
            "text/plain": "StatementMeta(syn1pshms03101, 0, 4, Finished, Available)"
          },
          "metadata": {}
        }
      ],
      "execution_count": 5,
      "metadata": {
        "jupyter": {
          "source_hidden": false,
          "outputs_hidden": false
        },
        "nteract": {
          "transient": {
            "deleting": false
          }
        }
      }
    },
    {
      "cell_type": "code",
      "source": [
        "%%sql\r\n",
        "SHOW TABLES in sharedhmsdb"
      ],
      "outputs": [
        {
          "output_type": "display_data",
          "data": {
            "application/vnd.livy.statement-meta+json": {
              "spark_pool": "syn1pshms03101",
              "session_id": "0",
              "statement_id": 5,
              "state": "finished",
              "livy_statement_state": "available",
              "queued_time": "2023-03-02T22:30:32.7447233Z",
              "session_start_time": null,
              "execution_start_time": "2023-03-02T22:30:46.1380122Z",
              "execution_finish_time": "2023-03-02T22:30:46.6974814Z",
              "spark_jobs": null,
              "parent_msg_id": "2b07889b-8122-4d31-9b6b-472b895c3aff"
            },
            "text/plain": "StatementMeta(syn1pshms03101, 0, 5, Finished, Available)"
          },
          "metadata": {}
        },
        {
          "output_type": "execute_result",
          "execution_count": 6,
          "data": {
            "application/vnd.synapse.sparksql-result+json": {
              "schema": {
                "type": "struct",
                "fields": [
                  {
                    "name": "database",
                    "type": "string",
                    "nullable": false,
                    "metadata": {}
                  },
                  {
                    "name": "tableName",
                    "type": "string",
                    "nullable": false,
                    "metadata": {}
                  },
                  {
                    "name": "isTemporary",
                    "type": "boolean",
                    "nullable": false,
                    "metadata": {}
                  }
                ]
              },
              "data": [
                [
                  "sharedhmsdb",
                  "building_summary",
                  false
                ]
              ]
            },
            "text/plain": "<Spark SQL result set with 1 rows and 3 fields>"
          },
          "metadata": {}
        }
      ],
      "execution_count": 6,
      "metadata": {
        "jupyter": {
          "source_hidden": false,
          "outputs_hidden": false
        },
        "nteract": {
          "transient": {
            "deleting": false
          }
        },
        "microsoft": {
          "language": "sparksql"
        },
        "collapsed": false
      }
    },
    {
      "cell_type": "code",
      "source": [
        "%%sql\r\n",
        "SELECT COUNT(*) FROM sharedhmsdb.building_summary"
      ],
      "outputs": [
        {
          "output_type": "display_data",
          "data": {
            "application/vnd.livy.statement-meta+json": {
              "spark_pool": "syn1pshms03101",
              "session_id": "0",
              "statement_id": 7,
              "state": "finished",
              "livy_statement_state": "available",
              "queued_time": "2023-03-02T22:34:37.72Z",
              "session_start_time": null,
              "execution_start_time": "2023-03-02T22:34:37.9238364Z",
              "execution_finish_time": "2023-03-02T22:34:40.7935692Z",
              "spark_jobs": null,
              "parent_msg_id": "d92d484f-2ecb-467c-aad7-efc81e1dce3b"
            },
            "text/plain": "StatementMeta(syn1pshms03101, 0, 7, Finished, Available)"
          },
          "metadata": {}
        },
        {
          "output_type": "execute_result",
          "execution_count": 8,
          "data": {
            "application/vnd.synapse.sparksql-result+json": {
              "schema": {
                "type": "struct",
                "fields": [
                  {
                    "name": "count(1)",
                    "type": "long",
                    "nullable": false,
                    "metadata": {}
                  }
                ]
              },
              "data": [
                [
                  "21"
                ]
              ]
            },
            "text/plain": "<Spark SQL result set with 1 rows and 1 fields>"
          },
          "metadata": {}
        }
      ],
      "execution_count": 8,
      "metadata": {
        "jupyter": {
          "source_hidden": false,
          "outputs_hidden": false
        },
        "nteract": {
          "transient": {
            "deleting": false
          }
        },
        "microsoft": {
          "language": "sparksql"
        },
        "collapsed": false
      }
    }
  ],
  "metadata": {
    "language_info": {
      "name": "python"
    },
    "kernelspec": {
      "name": "synapse_pyspark",
      "language": "Python",
      "display_name": "Synapse PySpark"
    },
    "kernel_info": {
      "name": "synapse_pyspark"
    },
    "save_output": true,
    "synapse_widget": {
      "version": "0.1",
      "state": {}
    }
  },
  "nbformat": 4,
  "nbformat_minor": 2
}