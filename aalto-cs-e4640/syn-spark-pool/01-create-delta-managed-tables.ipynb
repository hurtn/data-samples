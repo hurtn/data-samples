{
  "cells": [
    {
      "cell_type": "code",
      "source": [
        "from pyspark.sql.types import *\r\n",
        "\r\n",
        "table_name = 'dimension_city'\r\n",
        "\r\n",
        "dimension_city_schema = StructType([\r\n",
        "    StructField('CityKey', IntegerType(), True), \r\n",
        "    StructField('WWICityID', IntegerType(), True), \r\n",
        "    StructField('City', StringType(), True), \r\n",
        "    StructField('StateProvince', StringType(), True), \r\n",
        "    StructField('Country', StringType(), True), \r\n",
        "    StructField('Continent', StringType(), True), \r\n",
        "    StructField('SalesTerritory', StringType(), True), \r\n",
        "    StructField('Region', StringType(), True), \r\n",
        "    StructField('Subregion', StringType(), True), \r\n",
        "    StructField('Location', StringType(), True), \r\n",
        "    StructField('LatestRecordedPopulation', LongType(), True), \r\n",
        "    StructField('ValidFrom', TimestampType(), True), \r\n",
        "    StructField('ValidTo', TimestampType(), True), \r\n",
        "    StructField('LineageKey', IntegerType(), True)])\r\n",
        "\r\n",
        "df = spark.read.format(\"csv\").schema(dimension_city_schema).option(\"header\",\"true\").load('abfss://default@staaltolab01.dfs.core.windows.net/aalto/bronze/csv/full/' + table_name)\r\n",
        "df.write.mode(\"overwrite\").format(\"delta\").saveAsTable(table_name)"
      ],
      "outputs": [
        {
          "output_type": "display_data",
          "data": {
            "application/vnd.livy.statement-meta+json": {
              "spark_pool": "synspaalto01",
              "session_id": "0",
              "statement_id": 4,
              "state": "finished",
              "livy_statement_state": "available",
              "queued_time": "2023-03-15T21:53:52.2901985Z",
              "session_start_time": "2023-03-15T21:53:52.372807Z",
              "execution_start_time": "2023-03-15T21:53:52.5526144Z",
              "execution_finish_time": "2023-03-15T21:54:30.4489392Z",
              "spark_jobs": null,
              "parent_msg_id": "33d7f23d-e5ce-4497-92c9-3db17edd8345"
            },
            "text/plain": "StatementMeta(synspaalto01, 0, 4, Finished, Available)"
          },
          "metadata": {}
        }
      ],
      "execution_count": 4,
      "metadata": {}
    },
    {
      "cell_type": "code",
      "source": [
        "from pyspark.sql.types import *\r\n",
        "\r\n",
        "table_name = 'dimension_customer'\r\n",
        "\r\n",
        "dimension_customer_schema = StructType([\r\n",
        "    StructField('CustomerKey', IntegerType(), True), \r\n",
        "    StructField('WWICustomerID', IntegerType(), True), \r\n",
        "    StructField('Customer', StringType(), True), \r\n",
        "    StructField('BillToCustomer', StringType(), True), \r\n",
        "    StructField('Category', StringType(), True), \r\n",
        "    StructField('BuyingGroup', StringType(), True), \r\n",
        "    StructField('PrimaryContact', StringType(), True), \r\n",
        "    StructField('PostalCode', StringType(), True), \r\n",
        "    StructField('ValidFrom', TimestampType(), True), \r\n",
        "    StructField('ValidTo', TimestampType(), True), \r\n",
        "    StructField('LineageKey', IntegerType(), True)])\r\n",
        "\r\n",
        "df = spark.read.format(\"csv\").schema(dimension_customer_schema).option(\"header\",\"true\").load('abfss://default@staaltolab01.dfs.core.windows.net/aalto/bronze/csv/full/' + table_name)\r\n",
        "df.write.mode(\"overwrite\").format(\"delta\").saveAsTable(table_name)"
      ],
      "outputs": [
        {
          "output_type": "display_data",
          "data": {
            "application/vnd.livy.statement-meta+json": {
              "spark_pool": "synspaalto01",
              "session_id": "0",
              "statement_id": 7,
              "state": "finished",
              "livy_statement_state": "available",
              "queued_time": "2023-03-15T21:57:35.4764877Z",
              "session_start_time": null,
              "execution_start_time": "2023-03-15T21:57:35.6346718Z",
              "execution_finish_time": "2023-03-15T21:57:42.7377419Z",
              "spark_jobs": null,
              "parent_msg_id": "e96bc444-ebd8-40f1-a9c6-7b14fd4507b1"
            },
            "text/plain": "StatementMeta(synspaalto01, 0, 7, Finished, Available)"
          },
          "metadata": {}
        }
      ],
      "execution_count": 7,
      "metadata": {
        "jupyter": {
          "source_hidden": false,
          "outputs_hidden": false
        },
        "nteract": {
          "transient": {
            "deleting": false
          }
        }
      }
    },
    {
      "cell_type": "code",
      "source": [
        "from pyspark.sql.types import *\r\n",
        "\r\n",
        "table_name = 'dimension_date'\r\n",
        "\r\n",
        "dimension_date_schema = StructType([\r\n",
        "    StructField('Date', TimestampType(), True), \r\n",
        "    StructField('DayNumber', IntegerType(), True), \r\n",
        "    StructField('Day', StringType(), True), \r\n",
        "    StructField('Month', StringType(), True), \r\n",
        "    StructField('ShortMonth', StringType(), True), \r\n",
        "    StructField('CalendarMonthNumber', IntegerType(), True), \r\n",
        "    StructField('CalendarMonthLabel', StringType(), True), \r\n",
        "    StructField('CalendarYear', IntegerType(), True), \r\n",
        "    StructField('CalendarYearLabel', StringType(), True), \r\n",
        "    StructField('FiscalMonthNumber', IntegerType(), True), \r\n",
        "    StructField('FiscalMonthLabel', StringType(), True), \r\n",
        "    StructField('FiscalYear', IntegerType(), True), \r\n",
        "    StructField('FiscalYearLabel', StringType(), True), \r\n",
        "    StructField('ISOWeekNumber', IntegerType(), True)])\r\n",
        "\r\n",
        "df = spark.read.format(\"csv\").schema(dimension_date_schema).option(\"header\",\"true\").load('abfss://default@staaltolab01.dfs.core.windows.net/aalto/bronze/csv/full/' + table_name)\r\n",
        "df.write.mode(\"overwrite\").format(\"delta\").format(\"delta\").saveAsTable(table_name)"
      ],
      "outputs": [
        {
          "output_type": "display_data",
          "data": {
            "application/vnd.livy.statement-meta+json": {
              "spark_pool": "synspaalto01",
              "session_id": "0",
              "statement_id": 19,
              "state": "finished",
              "livy_statement_state": "available",
              "queued_time": "2023-03-15T22:08:14.2017606Z",
              "session_start_time": "2023-03-15T22:08:14.2568973Z",
              "execution_start_time": "2023-03-15T22:08:14.422355Z",
              "execution_finish_time": "2023-03-15T22:08:19.8631188Z",
              "spark_jobs": null,
              "parent_msg_id": "68814547-3870-4554-8f64-b6570e804e0c"
            },
            "text/plain": "StatementMeta(synspaalto01, 0, 19, Finished, Available)"
          },
          "metadata": {}
        }
      ],
      "execution_count": 19,
      "metadata": {
        "jupyter": {
          "source_hidden": false,
          "outputs_hidden": false
        },
        "nteract": {
          "transient": {
            "deleting": false
          }
        }
      }
    },
    {
      "cell_type": "code",
      "source": [
        "from pyspark.sql.types import *\r\n",
        "\r\n",
        "table_name = 'dimension_employee'\r\n",
        "\r\n",
        "dimension_employee_schema = StructType([\r\n",
        "    StructField('EmployeeKey', IntegerType(), True), \r\n",
        "    StructField('WWIEmployeeID', IntegerType(), True), \r\n",
        "    StructField('Employee', StringType(), True), \r\n",
        "    StructField('PreferredName', StringType(), True), \r\n",
        "    StructField('IsSalesperson', BooleanType(), True), \r\n",
        "    StructField('Photo', StringType(), True), \r\n",
        "    StructField('ValidFrom', TimestampType(), True), \r\n",
        "    StructField('ValidTo', TimestampType(), True), \r\n",
        "    StructField('LineageKey', IntegerType(), True)])\r\n",
        "\r\n",
        "df = spark.read.format(\"csv\").schema(dimension_employee_schema).option(\"header\",\"true\").load('abfss://default@staaltolab01.dfs.core.windows.net/aalto/bronze/csv/full/' + table_name)\r\n",
        "df.write.mode(\"overwrite\").format(\"delta\").saveAsTable(table_name)"
      ],
      "outputs": [
        {
          "output_type": "display_data",
          "data": {
            "application/vnd.livy.statement-meta+json": {
              "spark_pool": "synspaalto01",
              "session_id": "0",
              "statement_id": 9,
              "state": "finished",
              "livy_statement_state": "available",
              "queued_time": "2023-03-15T21:58:22.3958174Z",
              "session_start_time": null,
              "execution_start_time": "2023-03-15T21:58:22.6102302Z",
              "execution_finish_time": "2023-03-15T21:58:28.019329Z",
              "spark_jobs": null,
              "parent_msg_id": "10a47516-17fb-4cc4-b5a3-4298e3081049"
            },
            "text/plain": "StatementMeta(synspaalto01, 0, 9, Finished, Available)"
          },
          "metadata": {}
        }
      ],
      "execution_count": 9,
      "metadata": {
        "jupyter": {
          "source_hidden": false,
          "outputs_hidden": false
        },
        "nteract": {
          "transient": {
            "deleting": false
          }
        }
      }
    },
    {
      "cell_type": "code",
      "source": [
        "from pyspark.sql.types import *\r\n",
        "\r\n",
        "table_name = 'dimension_stock_item'\r\n",
        "\r\n",
        "dimension_stock_item_schema = StructType([\r\n",
        "    StructField('StockItemKey', IntegerType(), True), \r\n",
        "    StructField('WWIStockItemID', IntegerType(), True), \r\n",
        "    StructField('StockItem', StringType(), True), \r\n",
        "    StructField('Color', StringType(), True), \r\n",
        "    StructField('SellingPackage', StringType(), True), \r\n",
        "    StructField('BuyingPackage', StringType(), True), \r\n",
        "    StructField('Brand', StringType(), True), \r\n",
        "    StructField('Size', StringType(), True), \r\n",
        "    StructField('LeadTimeDays', IntegerType(), True), \r\n",
        "    StructField('QuantityPerOuter', IntegerType(), True), \r\n",
        "    StructField('IsChillerStock', BooleanType(), True), \r\n",
        "    StructField('Barcode', StringType(), True), \r\n",
        "    StructField('TaxRate', DecimalType(18,3), True), \r\n",
        "    StructField('UnitPrice', DecimalType(18,2), True), \r\n",
        "    StructField('RecommendedRetailPrice', DecimalType(18,2), True), \r\n",
        "    StructField('TypicalWeightPerUnit', DecimalType(18,3), True), \r\n",
        "    StructField('Photo', StringType(), True), \r\n",
        "    StructField('ValidFrom', TimestampType(), True), \r\n",
        "    StructField('ValidTo', TimestampType(), True), \r\n",
        "    StructField('LineageKey', IntegerType(), True)])\r\n",
        "\r\n",
        "df = spark.read.format(\"csv\").schema(dimension_stock_item_schema).option(\"header\",\"true\").load('abfss://default@staaltolab01.dfs.core.windows.net/aalto/bronze/csv/full/' + table_name)\r\n",
        "df.write.mode(\"overwrite\").format(\"delta\").saveAsTable(table_name)"
      ],
      "outputs": [
        {
          "output_type": "display_data",
          "data": {
            "application/vnd.livy.statement-meta+json": {
              "spark_pool": "synspaalto01",
              "session_id": "0",
              "statement_id": 10,
              "state": "finished",
              "livy_statement_state": "available",
              "queued_time": "2023-03-15T21:59:47.1260123Z",
              "session_start_time": null,
              "execution_start_time": "2023-03-15T21:59:47.3368881Z",
              "execution_finish_time": "2023-03-15T21:59:52.7839851Z",
              "spark_jobs": null,
              "parent_msg_id": "df05f526-f997-48b5-bbd9-786981ac6f20"
            },
            "text/plain": "StatementMeta(synspaalto01, 0, 10, Finished, Available)"
          },
          "metadata": {}
        }
      ],
      "execution_count": 10,
      "metadata": {
        "jupyter": {
          "source_hidden": false,
          "outputs_hidden": false
        },
        "nteract": {
          "transient": {
            "deleting": false
          }
        }
      }
    },
    {
      "cell_type": "code",
      "source": [
        "from pyspark.sql.types import *\r\n",
        "\r\n",
        "table_name = 'fact_sale_1y_full'\r\n",
        "\r\n",
        "fact_sale_schema = StructType([\r\n",
        "    StructField('SaleKey', LongType(), True), \r\n",
        "    StructField('CityKey', IntegerType(), True), \r\n",
        "    StructField('CustomerKey', IntegerType(), True), \r\n",
        "    StructField('BillToCustomerKey', IntegerType(), True), \r\n",
        "    StructField('StockItemKey', IntegerType(), True), \r\n",
        "    StructField('InvoiceDateKey', TimestampType(), True), \r\n",
        "    StructField('DeliveryDateKey', TimestampType(), True), \r\n",
        "    StructField('SalespersonKey', IntegerType(), True), \r\n",
        "    StructField('WWIInvoiceID', IntegerType(), True), \r\n",
        "    StructField('Description', StringType(), True), \r\n",
        "    StructField('Package', StringType(), True), \r\n",
        "    StructField('Quantity', IntegerType(), True), \r\n",
        "    StructField('UnitPrice', DecimalType(18,2), True), \r\n",
        "    StructField('TaxRate', DecimalType(18,3), True), \r\n",
        "    StructField('TotalExcludingTax', DecimalType(29,2), True), \r\n",
        "    StructField('TaxAmount', DecimalType(38,6), True), \r\n",
        "    StructField('Profit', DecimalType(18,2), True), \r\n",
        "    StructField('TotalIncludingTax', DecimalType(38,6), True), \r\n",
        "    StructField('TotalDryItems', IntegerType(), True), \r\n",
        "    StructField('TotalChillerItems', IntegerType(), True), \r\n",
        "    StructField('LineageKey', IntegerType(), True),\r\n",
        "    StructField('Year', IntegerType(), True),\r\n",
        "    StructField('Quarter', IntegerType(), True),\r\n",
        "    StructField('Month', IntegerType(), True)])\r\n",
        "\r\n",
        "df = spark.read.format(\"csv\").schema(fact_sale_schema).option(\"header\",\"true\").load('abfss://default@staaltolab01.dfs.core.windows.net/aalto/bronze/csv/full/' + table_name)\r\n",
        "df.write.mode(\"overwrite\").format(\"delta\").saveAsTable(table_name)"
      ],
      "outputs": [
        {
          "output_type": "display_data",
          "data": {
            "application/vnd.livy.statement-meta+json": {
              "spark_pool": "synspaalto01",
              "session_id": "0",
              "statement_id": 12,
              "state": "finished",
              "livy_statement_state": "available",
              "queued_time": "2023-03-15T22:01:12.3762789Z",
              "session_start_time": null,
              "execution_start_time": "2023-03-15T22:01:12.5325943Z",
              "execution_finish_time": "2023-03-15T22:04:29.9201779Z",
              "spark_jobs": null,
              "parent_msg_id": "60391982-b6c2-4805-8ce0-e195c272e837"
            },
            "text/plain": "StatementMeta(synspaalto01, 0, 12, Finished, Available)"
          },
          "metadata": {}
        }
      ],
      "execution_count": 12,
      "metadata": {
        "jupyter": {
          "source_hidden": false,
          "outputs_hidden": false
        },
        "nteract": {
          "transient": {
            "deleting": false
          }
        }
      }
    },
    {
      "cell_type": "code",
      "source": [
        "%%sql\r\n",
        "SHOW DATABASES"
      ],
      "outputs": [
        {
          "output_type": "display_data",
          "data": {
            "application/vnd.livy.statement-meta+json": {
              "spark_pool": "synspaalto01",
              "session_id": "0",
              "statement_id": 13,
              "state": "finished",
              "livy_statement_state": "available",
              "queued_time": "2023-03-15T22:01:32.5496795Z",
              "session_start_time": null,
              "execution_start_time": "2023-03-15T22:04:30.1786439Z",
              "execution_finish_time": "2023-03-15T22:04:30.7290606Z",
              "spark_jobs": null,
              "parent_msg_id": "0690a0d3-6204-4b44-bc62-44dfa9ccc1cf"
            },
            "text/plain": "StatementMeta(synspaalto01, 0, 13, Finished, Available)"
          },
          "metadata": {}
        },
        {
          "output_type": "execute_result",
          "execution_count": 13,
          "data": {
            "application/vnd.synapse.sparksql-result+json": {
              "schema": {
                "type": "struct",
                "fields": [
                  {
                    "name": "namespace",
                    "type": "string",
                    "nullable": false,
                    "metadata": {}
                  }
                ]
              },
              "data": [
                [
                  "default"
                ]
              ]
            },
            "text/plain": "<Spark SQL result set with 1 rows and 1 fields>"
          },
          "metadata": {}
        }
      ],
      "execution_count": 13,
      "metadata": {
        "jupyter": {
          "source_hidden": false,
          "outputs_hidden": false
        },
        "nteract": {
          "transient": {
            "deleting": false
          }
        },
        "microsoft": {
          "language": "sparksql"
        },
        "collapsed": false
      }
    },
    {
      "cell_type": "code",
      "source": [
        " %%sql\r\n",
        " SHOW TABLES IN default"
      ],
      "outputs": [
        {
          "output_type": "display_data",
          "data": {
            "application/vnd.livy.statement-meta+json": {
              "spark_pool": "synspaalto01",
              "session_id": "0",
              "statement_id": 14,
              "state": "finished",
              "livy_statement_state": "available",
              "queued_time": "2023-03-15T22:01:34.7352384Z",
              "session_start_time": null,
              "execution_start_time": "2023-03-15T22:04:30.8821904Z",
              "execution_finish_time": "2023-03-15T22:04:31.4393105Z",
              "spark_jobs": null,
              "parent_msg_id": "2595f13b-692b-4dfa-90a5-a9dbe2083171"
            },
            "text/plain": "StatementMeta(synspaalto01, 0, 14, Finished, Available)"
          },
          "metadata": {}
        },
        {
          "output_type": "execute_result",
          "execution_count": 14,
          "data": {
            "application/vnd.synapse.sparksql-result+json": {
              "schema": {
                "type": "struct",
                "fields": [
                  {
                    "name": "database",
                    "type": "string",
                    "nullable": false,
                    "metadata": {}
                  },
                  {
                    "name": "tableName",
                    "type": "string",
                    "nullable": false,
                    "metadata": {}
                  },
                  {
                    "name": "isTemporary",
                    "type": "boolean",
                    "nullable": false,
                    "metadata": {}
                  }
                ]
              },
              "data": [
                [
                  "default",
                  "dimension_city",
                  false
                ],
                [
                  "default",
                  "dimension_customer",
                  false
                ],
                [
                  "default",
                  "dimension_employee",
                  false
                ],
                [
                  "default",
                  "dimension_stock_item",
                  false
                ],
                [
                  "default",
                  "fact_sale_1y_full",
                  false
                ]
              ]
            },
            "text/plain": "<Spark SQL result set with 5 rows and 3 fields>"
          },
          "metadata": {}
        }
      ],
      "execution_count": 14,
      "metadata": {
        "jupyter": {
          "source_hidden": false,
          "outputs_hidden": false
        },
        "nteract": {
          "transient": {
            "deleting": false
          }
        },
        "microsoft": {
          "language": "sparksql"
        },
        "collapsed": false
      }
    },
    {
      "cell_type": "code",
      "source": [
        "%%sql\r\n",
        "SELECT * FROM default.dimension_city LIMIT 10"
      ],
      "outputs": [
        {
          "output_type": "display_data",
          "data": {
            "application/vnd.livy.statement-meta+json": {
              "spark_pool": "synspaalto01",
              "session_id": "0",
              "statement_id": 16,
              "state": "finished",
              "livy_statement_state": "available",
              "queued_time": "2023-03-15T22:05:08.4247539Z",
              "session_start_time": null,
              "execution_start_time": "2023-03-15T22:05:08.585772Z",
              "execution_finish_time": "2023-03-15T22:05:11.4351154Z",
              "spark_jobs": null,
              "parent_msg_id": "2389d32b-16fb-4521-8298-e9dd23f08c77"
            },
            "text/plain": "StatementMeta(synspaalto01, 0, 16, Finished, Available)"
          },
          "metadata": {}
        },
        {
          "output_type": "execute_result",
          "execution_count": 16,
          "data": {
            "application/vnd.synapse.sparksql-result+json": {
              "schema": {
                "type": "struct",
                "fields": [
                  {
                    "name": "CityKey",
                    "type": "integer",
                    "nullable": true,
                    "metadata": {}
                  },
                  {
                    "name": "WWICityID",
                    "type": "integer",
                    "nullable": true,
                    "metadata": {}
                  },
                  {
                    "name": "City",
                    "type": "string",
                    "nullable": true,
                    "metadata": {}
                  },
                  {
                    "name": "StateProvince",
                    "type": "string",
                    "nullable": true,
                    "metadata": {}
                  },
                  {
                    "name": "Country",
                    "type": "string",
                    "nullable": true,
                    "metadata": {}
                  },
                  {
                    "name": "Continent",
                    "type": "string",
                    "nullable": true,
                    "metadata": {}
                  },
                  {
                    "name": "SalesTerritory",
                    "type": "string",
                    "nullable": true,
                    "metadata": {}
                  },
                  {
                    "name": "Region",
                    "type": "string",
                    "nullable": true,
                    "metadata": {}
                  },
                  {
                    "name": "Subregion",
                    "type": "string",
                    "nullable": true,
                    "metadata": {}
                  },
                  {
                    "name": "Location",
                    "type": "string",
                    "nullable": true,
                    "metadata": {}
                  },
                  {
                    "name": "LatestRecordedPopulation",
                    "type": "long",
                    "nullable": true,
                    "metadata": {}
                  },
                  {
                    "name": "ValidFrom",
                    "type": "timestamp",
                    "nullable": true,
                    "metadata": {}
                  },
                  {
                    "name": "ValidTo",
                    "type": "timestamp",
                    "nullable": true,
                    "metadata": {}
                  },
                  {
                    "name": "LineageKey",
                    "type": "integer",
                    "nullable": true,
                    "metadata": {}
                  }
                ]
              },
              "data": [
                [
                  47199,
                  25903,
                  "Pacheco",
                  "California",
                  "United States",
                  "North America",
                  "Far West",
                  "Americas",
                  "Northern America",
                  "POINT (-122.0752413 37.9835332)",
                  "3685",
                  "2013-01-01T00:01:00Z",
                  "2015-07-01T16:00:00Z",
                  1
                ],
                [
                  47200,
                  25909,
                  "Pacific Grove",
                  "California",
                  "United States",
                  "North America",
                  "Far West",
                  "Americas",
                  "Northern America",
                  "POINT (-121.9166215 36.6177375)",
                  "15041",
                  "2013-01-01T00:01:00Z",
                  "2015-07-01T16:00:00Z",
                  1
                ],
                [
                  47201,
                  25911,
                  "Pacifica",
                  "California",
                  "United States",
                  "North America",
                  "Far West",
                  "Americas",
                  "Northern America",
                  "POINT (-122.4869194 37.6138253)",
                  "37234",
                  "2013-01-01T00:01:00Z",
                  "2015-07-01T16:00:00Z",
                  1
                ],
                [
                  47202,
                  25946,
                  "Paicines",
                  "California",
                  "United States",
                  "North America",
                  "Far West",
                  "Americas",
                  "Northern America",
                  "POINT (-121.2785409 36.7285708)",
                  "0",
                  "2013-01-01T00:01:00Z",
                  "2015-07-01T16:00:00Z",
                  1
                ],
                [
                  47203,
                  25965,
                  "Pajaro",
                  "California",
                  "United States",
                  "North America",
                  "Far West",
                  "Americas",
                  "Northern America",
                  "POINT (-121.7485609 36.9041201)",
                  "3070",
                  "2013-01-01T00:01:00Z",
                  "2015-07-01T16:00:00Z",
                  1
                ],
                [
                  47204,
                  25968,
                  "Pala",
                  "California",
                  "United States",
                  "North America",
                  "Far West",
                  "Americas",
                  "Northern America",
                  "POINT (-117.0766965 33.3653102)",
                  "0",
                  "2013-01-01T00:01:00Z",
                  "2015-07-01T16:00:00Z",
                  1
                ],
                [
                  47205,
                  25976,
                  "Palermo",
                  "California",
                  "United States",
                  "North America",
                  "Far West",
                  "Americas",
                  "Northern America",
                  "POINT (-121.5380243 39.4354432)",
                  "5382",
                  "2013-01-01T00:01:00Z",
                  "2015-07-01T16:00:00Z",
                  1
                ],
                [
                  47206,
                  25999,
                  "Palm Desert",
                  "California",
                  "United States",
                  "North America",
                  "Far West",
                  "Americas",
                  "Northern America",
                  "POINT (-116.3744556 33.7222445)",
                  "48445",
                  "2013-01-01T00:01:00Z",
                  "2015-07-01T16:00:00Z",
                  1
                ],
                [
                  47207,
                  26000,
                  "Palm Desert Country",
                  "California",
                  "United States",
                  "North America",
                  "Far West",
                  "Americas",
                  "Northern America",
                  "POINT (-116.3155649 33.7405771)",
                  "0",
                  "2013-01-01T00:01:00Z",
                  "2015-07-01T16:00:00Z",
                  1
                ],
                [
                  47208,
                  26005,
                  "Palm Springs",
                  "California",
                  "United States",
                  "North America",
                  "Far West",
                  "Americas",
                  "Northern America",
                  "POINT (-116.5452921 33.8302961)",
                  "44552",
                  "2013-01-01T00:01:00Z",
                  "2015-07-01T16:00:00Z",
                  1
                ]
              ]
            },
            "text/plain": "<Spark SQL result set with 10 rows and 14 fields>"
          },
          "metadata": {}
        }
      ],
      "execution_count": 16,
      "metadata": {
        "jupyter": {
          "source_hidden": false,
          "outputs_hidden": false
        },
        "nteract": {
          "transient": {
            "deleting": false
          }
        },
        "microsoft": {
          "language": "sparksql"
        },
        "collapsed": false
      }
    },
    {
      "cell_type": "code",
      "source": [
        "%%sql\r\n",
        "SELECT * FROM default.fact_sale_1y_full LIMIT 10"
      ],
      "outputs": [
        {
          "output_type": "display_data",
          "data": {
            "application/vnd.livy.statement-meta+json": {
              "spark_pool": "synspaalto01",
              "session_id": "0",
              "statement_id": 17,
              "state": "finished",
              "livy_statement_state": "available",
              "queued_time": "2023-03-15T22:05:20.404025Z",
              "session_start_time": null,
              "execution_start_time": "2023-03-15T22:05:20.5482404Z",
              "execution_finish_time": "2023-03-15T22:05:22.4290792Z",
              "spark_jobs": null,
              "parent_msg_id": "6a548b99-f610-44ad-bf2f-db8a617b5d43"
            },
            "text/plain": "StatementMeta(synspaalto01, 0, 17, Finished, Available)"
          },
          "metadata": {}
        },
        {
          "output_type": "execute_result",
          "execution_count": 17,
          "data": {
            "application/vnd.synapse.sparksql-result+json": {
              "schema": {
                "type": "struct",
                "fields": [
                  {
                    "name": "SaleKey",
                    "type": "long",
                    "nullable": true,
                    "metadata": {}
                  },
                  {
                    "name": "CityKey",
                    "type": "integer",
                    "nullable": true,
                    "metadata": {}
                  },
                  {
                    "name": "CustomerKey",
                    "type": "integer",
                    "nullable": true,
                    "metadata": {}
                  },
                  {
                    "name": "BillToCustomerKey",
                    "type": "integer",
                    "nullable": true,
                    "metadata": {}
                  },
                  {
                    "name": "StockItemKey",
                    "type": "integer",
                    "nullable": true,
                    "metadata": {}
                  },
                  {
                    "name": "InvoiceDateKey",
                    "type": "timestamp",
                    "nullable": true,
                    "metadata": {}
                  },
                  {
                    "name": "DeliveryDateKey",
                    "type": "timestamp",
                    "nullable": true,
                    "metadata": {}
                  },
                  {
                    "name": "SalespersonKey",
                    "type": "integer",
                    "nullable": true,
                    "metadata": {}
                  },
                  {
                    "name": "WWIInvoiceID",
                    "type": "integer",
                    "nullable": true,
                    "metadata": {}
                  },
                  {
                    "name": "Description",
                    "type": "string",
                    "nullable": true,
                    "metadata": {}
                  },
                  {
                    "name": "Package",
                    "type": "string",
                    "nullable": true,
                    "metadata": {}
                  },
                  {
                    "name": "Quantity",
                    "type": "integer",
                    "nullable": true,
                    "metadata": {}
                  },
                  {
                    "name": "UnitPrice",
                    "type": "decimal(18,2)",
                    "nullable": true,
                    "metadata": {}
                  },
                  {
                    "name": "TaxRate",
                    "type": "decimal(18,3)",
                    "nullable": true,
                    "metadata": {}
                  },
                  {
                    "name": "TotalExcludingTax",
                    "type": "decimal(29,2)",
                    "nullable": true,
                    "metadata": {}
                  },
                  {
                    "name": "TaxAmount",
                    "type": "decimal(38,6)",
                    "nullable": true,
                    "metadata": {}
                  },
                  {
                    "name": "Profit",
                    "type": "decimal(18,2)",
                    "nullable": true,
                    "metadata": {}
                  },
                  {
                    "name": "TotalIncludingTax",
                    "type": "decimal(38,6)",
                    "nullable": true,
                    "metadata": {}
                  },
                  {
                    "name": "TotalDryItems",
                    "type": "integer",
                    "nullable": true,
                    "metadata": {}
                  },
                  {
                    "name": "TotalChillerItems",
                    "type": "integer",
                    "nullable": true,
                    "metadata": {}
                  },
                  {
                    "name": "LineageKey",
                    "type": "integer",
                    "nullable": true,
                    "metadata": {}
                  },
                  {
                    "name": "Year",
                    "type": "integer",
                    "nullable": true,
                    "metadata": {}
                  },
                  {
                    "name": "Quarter",
                    "type": "integer",
                    "nullable": true,
                    "metadata": {}
                  },
                  {
                    "name": "Month",
                    "type": "integer",
                    "nullable": true,
                    "metadata": {}
                  }
                ]
              },
              "data": [
                [
                  "47653175",
                  39257,
                  370,
                  202,
                  31,
                  "2000-11-14T00:00:00Z",
                  "2000-11-15T00:00:00Z",
                  36,
                  2770,
                  "Clear packaging tape 48mmx75m:Clear packaging tape 48mmx75m:Clear packaging tape 48mmx75m:Clear packaging tape 48mmx75m:Clear packaging tape 48mmx75m:Clear packaging tape 48mmx75m:Clear packaging tape 48mmx75m:Clear packaging tape 48mmx75m:Clear packaging tape 48mmx75m:Clear packaging tape 48mmx75m:Clear packaging tape 48mmx75m:Clear packaging tape 48mmx75m:",
                  "Each",
                  52,
                  "2.90",
                  "15.000",
                  "150.80",
                  "22.620000",
                  "62.40",
                  "173.420000",
                  52,
                  0,
                  11,
                  null,
                  null,
                  null
                ],
                [
                  "31372262",
                  47188,
                  210,
                  202,
                  11,
                  "2000-07-28T00:00:00Z",
                  "2000-07-29T00:00:00Z",
                  15,
                  2129,
                  "Packing knife with metal insert blade (Yellow) 9mm:Packing knife with metal insert blade (Yellow) 9mm:Packing knife with metal insert blade (Yellow) 9mm:Packing knife with metal insert blade (Yellow) 9mm:Packing knife with metal insert blade (Yellow) 9mm:Packing knife with metal insert blade (Yellow) 9mm:Packing knife with metal insert blade (Yellow) 9mm:Packing knife with metal insert blade (Yellow) 9mm:Packing knife with metal insert blade (Yellow) 9mm:Packing knife with metal insert blade (Yellow) 9mm:Packing knife with metal insert blade (Yellow) 9mm:Packing knife with metal insert blade (Yellow) 9mm:",
                  "Each",
                  30,
                  "1.89",
                  "15.000",
                  "56.70",
                  "8.510000",
                  "29.70",
                  "65.210000",
                  30,
                  0,
                  11,
                  null,
                  null,
                  null
                ],
                [
                  "47653235",
                  39257,
                  370,
                  202,
                  31,
                  "2000-11-14T00:00:00Z",
                  "2000-11-15T00:00:00Z",
                  36,
                  2770,
                  "Clear packaging tape 48mmx75m:Clear packaging tape 48mmx75m:Clear packaging tape 48mmx75m:Clear packaging tape 48mmx75m:Clear packaging tape 48mmx75m:Clear packaging tape 48mmx75m:Clear packaging tape 48mmx75m:Clear packaging tape 48mmx75m:Clear packaging tape 48mmx75m:Clear packaging tape 48mmx75m:Clear packaging tape 48mmx75m:Clear packaging tape 48mmx75m:",
                  "Each",
                  52,
                  "2.90",
                  "15.000",
                  "150.80",
                  "22.620000",
                  "62.40",
                  "173.420000",
                  52,
                  0,
                  11,
                  null,
                  null,
                  null
                ],
                [
                  "31372322",
                  47188,
                  210,
                  202,
                  11,
                  "2000-07-28T00:00:00Z",
                  "2000-07-29T00:00:00Z",
                  15,
                  2129,
                  "Packing knife with metal insert blade (Yellow) 9mm:Packing knife with metal insert blade (Yellow) 9mm:Packing knife with metal insert blade (Yellow) 9mm:Packing knife with metal insert blade (Yellow) 9mm:Packing knife with metal insert blade (Yellow) 9mm:Packing knife with metal insert blade (Yellow) 9mm:Packing knife with metal insert blade (Yellow) 9mm:Packing knife with metal insert blade (Yellow) 9mm:Packing knife with metal insert blade (Yellow) 9mm:Packing knife with metal insert blade (Yellow) 9mm:Packing knife with metal insert blade (Yellow) 9mm:Packing knife with metal insert blade (Yellow) 9mm:",
                  "Each",
                  30,
                  "1.89",
                  "15.000",
                  "56.70",
                  "8.510000",
                  "29.70",
                  "65.210000",
                  30,
                  0,
                  11,
                  null,
                  null,
                  null
                ],
                [
                  "47653835",
                  39257,
                  370,
                  202,
                  31,
                  "2000-11-14T00:00:00Z",
                  "2000-11-15T00:00:00Z",
                  36,
                  2770,
                  "Clear packaging tape 48mmx75m:Clear packaging tape 48mmx75m:Clear packaging tape 48mmx75m:Clear packaging tape 48mmx75m:Clear packaging tape 48mmx75m:Clear packaging tape 48mmx75m:Clear packaging tape 48mmx75m:Clear packaging tape 48mmx75m:Clear packaging tape 48mmx75m:Clear packaging tape 48mmx75m:Clear packaging tape 48mmx75m:Clear packaging tape 48mmx75m:",
                  "Each",
                  52,
                  "2.90",
                  "15.000",
                  "150.80",
                  "22.620000",
                  "62.40",
                  "173.420000",
                  52,
                  0,
                  11,
                  null,
                  null,
                  null
                ],
                [
                  "31387322",
                  47188,
                  210,
                  202,
                  11,
                  "2000-07-28T00:00:00Z",
                  "2000-07-29T00:00:00Z",
                  15,
                  2129,
                  "Packing knife with metal insert blade (Yellow) 9mm:Packing knife with metal insert blade (Yellow) 9mm:Packing knife with metal insert blade (Yellow) 9mm:Packing knife with metal insert blade (Yellow) 9mm:Packing knife with metal insert blade (Yellow) 9mm:Packing knife with metal insert blade (Yellow) 9mm:Packing knife with metal insert blade (Yellow) 9mm:Packing knife with metal insert blade (Yellow) 9mm:Packing knife with metal insert blade (Yellow) 9mm:Packing knife with metal insert blade (Yellow) 9mm:Packing knife with metal insert blade (Yellow) 9mm:Packing knife with metal insert blade (Yellow) 9mm:",
                  "Each",
                  30,
                  "1.89",
                  "15.000",
                  "56.70",
                  "8.510000",
                  "29.70",
                  "65.210000",
                  30,
                  0,
                  11,
                  null,
                  null,
                  null
                ],
                [
                  "47653895",
                  39257,
                  370,
                  202,
                  31,
                  "2000-11-14T00:00:00Z",
                  "2000-11-15T00:00:00Z",
                  36,
                  2770,
                  "Clear packaging tape 48mmx75m:Clear packaging tape 48mmx75m:Clear packaging tape 48mmx75m:Clear packaging tape 48mmx75m:Clear packaging tape 48mmx75m:Clear packaging tape 48mmx75m:Clear packaging tape 48mmx75m:Clear packaging tape 48mmx75m:Clear packaging tape 48mmx75m:Clear packaging tape 48mmx75m:Clear packaging tape 48mmx75m:Clear packaging tape 48mmx75m:",
                  "Each",
                  52,
                  "2.90",
                  "15.000",
                  "150.80",
                  "22.620000",
                  "62.40",
                  "173.420000",
                  52,
                  0,
                  11,
                  null,
                  null,
                  null
                ],
                [
                  "31387382",
                  47188,
                  210,
                  202,
                  11,
                  "2000-07-28T00:00:00Z",
                  "2000-07-29T00:00:00Z",
                  15,
                  2129,
                  "Packing knife with metal insert blade (Yellow) 9mm:Packing knife with metal insert blade (Yellow) 9mm:Packing knife with metal insert blade (Yellow) 9mm:Packing knife with metal insert blade (Yellow) 9mm:Packing knife with metal insert blade (Yellow) 9mm:Packing knife with metal insert blade (Yellow) 9mm:Packing knife with metal insert blade (Yellow) 9mm:Packing knife with metal insert blade (Yellow) 9mm:Packing knife with metal insert blade (Yellow) 9mm:Packing knife with metal insert blade (Yellow) 9mm:Packing knife with metal insert blade (Yellow) 9mm:Packing knife with metal insert blade (Yellow) 9mm:",
                  "Each",
                  30,
                  "1.89",
                  "15.000",
                  "56.70",
                  "8.510000",
                  "29.70",
                  "65.210000",
                  30,
                  0,
                  11,
                  null,
                  null,
                  null
                ],
                [
                  "47653955",
                  39257,
                  370,
                  202,
                  31,
                  "2000-11-14T00:00:00Z",
                  "2000-11-15T00:00:00Z",
                  36,
                  2770,
                  "Clear packaging tape 48mmx75m:Clear packaging tape 48mmx75m:Clear packaging tape 48mmx75m:Clear packaging tape 48mmx75m:Clear packaging tape 48mmx75m:Clear packaging tape 48mmx75m:Clear packaging tape 48mmx75m:Clear packaging tape 48mmx75m:Clear packaging tape 48mmx75m:Clear packaging tape 48mmx75m:Clear packaging tape 48mmx75m:Clear packaging tape 48mmx75m:",
                  "Each",
                  52,
                  "2.90",
                  "15.000",
                  "150.80",
                  "22.620000",
                  "62.40",
                  "173.420000",
                  52,
                  0,
                  11,
                  null,
                  null,
                  null
                ],
                [
                  "31387442",
                  47188,
                  210,
                  202,
                  11,
                  "2000-07-28T00:00:00Z",
                  "2000-07-29T00:00:00Z",
                  15,
                  2129,
                  "Packing knife with metal insert blade (Yellow) 9mm:Packing knife with metal insert blade (Yellow) 9mm:Packing knife with metal insert blade (Yellow) 9mm:Packing knife with metal insert blade (Yellow) 9mm:Packing knife with metal insert blade (Yellow) 9mm:Packing knife with metal insert blade (Yellow) 9mm:Packing knife with metal insert blade (Yellow) 9mm:Packing knife with metal insert blade (Yellow) 9mm:Packing knife with metal insert blade (Yellow) 9mm:Packing knife with metal insert blade (Yellow) 9mm:Packing knife with metal insert blade (Yellow) 9mm:Packing knife with metal insert blade (Yellow) 9mm:",
                  "Each",
                  30,
                  "1.89",
                  "15.000",
                  "56.70",
                  "8.510000",
                  "29.70",
                  "65.210000",
                  30,
                  0,
                  11,
                  null,
                  null,
                  null
                ]
              ]
            },
            "text/plain": "<Spark SQL result set with 10 rows and 24 fields>"
          },
          "metadata": {}
        }
      ],
      "execution_count": 17,
      "metadata": {
        "jupyter": {
          "source_hidden": false,
          "outputs_hidden": false
        },
        "nteract": {
          "transient": {
            "deleting": false
          }
        },
        "microsoft": {
          "language": "sparksql"
        },
        "collapsed": false
      }
    }
  ],
  "metadata": {
    "language_info": {
      "name": "python"
    },
    "kernelspec": {
      "name": "synapse_pyspark",
      "language": "Python",
      "display_name": "Synapse PySpark"
    },
    "kernel_info": {
      "name": "synapse_pyspark"
    },
    "save_output": true,
    "synapse_widget": {
      "version": "0.1",
      "state": {}
    }
  },
  "nbformat": 4,
  "nbformat_minor": 2
}